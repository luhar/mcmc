{
 "cells": [
  {
   "cell_type": "code",
   "execution_count": 1,
   "metadata": {
    "collapsed": false
   },
   "outputs": [],
   "source": [
    "# a bit of setup\n",
    "import numpy as np\n",
    "import math\n",
    "import matplotlib.pyplot as plt\n",
    "from matplotlib import animation\n",
    "import pandas as pd\n",
    "import scipy.stats as stats\n",
    "from pydub import AudioSegment\n",
    "% matplotlib inline"
   ]
  },
  {
   "cell_type": "code",
   "execution_count": 4,
   "metadata": {
    "collapsed": true
   },
   "outputs": [],
   "source": [
    "def metropolis_hastings(proposal_func, init_func, acceptance_score, num_iters, step=30):\n",
    "    \"\"\"\n",
    "    Runs the metropolis-hastings algorithm for\n",
    "    num_iters iterations, using proposal_func\n",
    "    to generate samples and scorer to assign\n",
    "    probability scores to samples.\n",
    "      \n",
    "    proposal_func -- function that proposes\n",
    "        candidate state; takes in current state as\n",
    "        argument and returns candidate state\n",
    "    init_func -- function that proposes starting\n",
    "        state; takes no arguments and returns a\n",
    "        sample state\n",
    "    acceptance_score -- function that calculates the acceptance\n",
    "        probability; takes in two state samples\n",
    "        (candidate first, then sample) and returns\n",
    "        acceptance probability\n",
    "    \n",
    "    Returns a sequence of every step-th sample. You \n",
    "    should only sample on upon acceptance of a new\n",
    "    proposal. Do not keep sampling the current state.\n",
    "    \n",
    "    Note the total number of samples will NOT be\n",
    "    equal to num_iters. num_iters is the total number\n",
    "    of proposals we generate.\n",
    "    \"\"\"\n",
    "    samples = []\n",
    "    sample = init_func()\n",
    "    for i in range(num_iters):\n",
    "        candidate = proposal_func(sample)\n",
    "        acceptance_ratio = min(1, acceptance_score(candidate,sample))\n",
    "        if np.random.uniform() < acceptance_ratio:\n",
    "            sample = candidate\n",
    "            samples.append(sample)\n",
    "    return samples[::step]"
   ]
  },
  {
   "cell_type": "code",
   "execution_count": 13,
   "metadata": {
    "collapsed": true
   },
   "outputs": [],
   "source": [
    "def build_bigram_freq_matrix(input_arr, alphabet_size):\n",
    "    \"\"\"\n",
    "    Builds a matrix that represents the transitional\n",
    "    probabilities between letters in input_file.\n",
    "    \n",
    "    bigram_freq_matrix[0][1] is the probability of\n",
    "    transitioning from the 0th letter of the alphabet\n",
    "    to the 1st letter of the alphabet, where letters\n",
    "    are zero-indexed. ' ' (space) is denoted as the\n",
    "    26th letter of the alphabet.\n",
    "    \"\"\"\n",
    "    counts = np.ones([alphabet_size, alphabet_size])\n",
    "    \n",
    "    for i in range(len(input_arr) - 2):\n",
    "        first_char = input_arr[i]\n",
    "        second_char = input_arr[i+1]\n",
    "        counts[first_char][second_char] += 1\n",
    "        \n",
    "    return (counts.T / np.sum(counts, axis=1)).T"
   ]
  },
  {
   "cell_type": "code",
   "execution_count": 4,
   "metadata": {
    "collapsed": false
   },
   "outputs": [
    {
     "ename": "NameError",
     "evalue": "name 'the_secret_message' is not defined",
     "output_type": "error",
     "traceback": [
      "\u001b[0;31m---------------------------------------------------------------------------\u001b[0m",
      "\u001b[0;31mNameError\u001b[0m                                 Traceback (most recent call last)",
      "\u001b[0;32m<ipython-input-4-483d6ba2605f>\u001b[0m in \u001b[0;36m<module>\u001b[0;34m()\u001b[0m\n\u001b[1;32m     56\u001b[0m     \u001b[0;32mreturn\u001b[0m \u001b[0mscorer\u001b[0m\u001b[0;34m\u001b[0m\u001b[0m\n\u001b[1;32m     57\u001b[0m \u001b[0;34m\u001b[0m\u001b[0m\n\u001b[0;32m---> 58\u001b[0;31m \u001b[0macceptance_scorer\u001b[0m \u001b[0;34m=\u001b[0m \u001b[0mmake_acceptance_scorer\u001b[0m\u001b[0;34m(\u001b[0m\u001b[0mthe_secret_message\u001b[0m\u001b[0;34m,\u001b[0m \u001b[0mbigram_freq_matrix\u001b[0m\u001b[0;34m)\u001b[0m\u001b[0;34m\u001b[0m\u001b[0m\n\u001b[0m",
      "\u001b[0;31mNameError\u001b[0m: name 'the_secret_message' is not defined"
     ]
    }
   ],
   "source": [
    "def starting_state():\n",
    "    \"\"\"\n",
    "    Start with a random permutation.\n",
    "    \"\"\"\n",
    "    return np.random.randint(1,21,21)\n",
    "\n",
    "def sample_candidate(sample):\n",
    "    \"\"\"\n",
    "    To search for new ciphers, randomly\n",
    "    swap two letters in the previous cipher.\n",
    "    \"\"\"\n",
    "    num_permute = 3 #hyperparameter\n",
    "    sample = list(sample)\n",
    "    for _ in range(num_permute):\n",
    "        sample[np.random.randint(1,21)] = np.random.randint(1,21)\n",
    "    return sample\n",
    "    \n",
    "\n",
    "def make_acceptance_scorer(decode_string, transition_matrix):\n",
    "    \"\"\"\n",
    "    Calculate the acceptance probability, which is the\n",
    "    probability of observing the message translated by\n",
    "    the proposed cipher divided by the probability of\n",
    "    obseving the message translated by the current\n",
    "    cipher.\n",
    "    \"\"\"\n",
    "    \n",
    "    def scorer(candidate, sample):\n",
    "        nonlocal transition_matrix\n",
    "        nonlocal decode_string\n",
    "        samString = decode(decode_string, sample)\n",
    "        candString = decode(decode_string, candidate)\n",
    "        \n",
    "        samNumbers = []\n",
    "        samProb = 1\n",
    "        candNumbers = []\n",
    "        candProb = 1\n",
    "        finalProb = 1\n",
    "        for i in samString:\n",
    "            if i == \" \":\n",
    "                samNumbers.append(26)\n",
    "            else:\n",
    "                samNumbers.append(ord(i) - 65)\n",
    "                \n",
    "        for i in candString:\n",
    "            if i == \" \":\n",
    "                candNumbers.append(26)\n",
    "            else:\n",
    "                candNumbers.append(ord(i) - 65)\n",
    "        \n",
    "        for i in range(1,len(samNumbers)):\n",
    "            finalProb *= transition_matrix[candNumbers[i-1]][candNumbers[i]]/transition_matrix[samNumbers[i-1]][samNumbers[i]]\n",
    "\n",
    "        return finalProb\n",
    "    \n",
    "    return scorer\n",
    "\n",
    "acceptance_scorer = make_acceptance_scorer(the_secret_message, bigram_freq_matrix)"
   ]
  },
  {
   "cell_type": "code",
   "execution_count": null,
   "metadata": {
    "collapsed": true
   },
   "outputs": [],
   "source": []
  },
  {
   "cell_type": "code",
   "execution_count": null,
   "metadata": {
    "collapsed": false
   },
   "outputs": [],
   "source": []
  },
  {
   "cell_type": "code",
   "execution_count": null,
   "metadata": {
    "collapsed": false
   },
   "outputs": [],
   "source": []
  },
  {
   "cell_type": "code",
   "execution_count": null,
   "metadata": {
    "collapsed": true
   },
   "outputs": [],
   "source": []
  },
  {
   "cell_type": "code",
   "execution_count": null,
   "metadata": {
    "collapsed": false
   },
   "outputs": [],
   "source": []
  },
  {
   "cell_type": "code",
   "execution_count": null,
   "metadata": {
    "collapsed": false
   },
   "outputs": [],
   "source": []
  },
  {
   "cell_type": "code",
   "execution_count": null,
   "metadata": {
    "collapsed": true
   },
   "outputs": [],
   "source": []
  }
 ],
 "metadata": {
  "kernelspec": {
   "display_name": "Python [Root]",
   "language": "python",
   "name": "Python [Root]"
  },
  "language_info": {
   "codemirror_mode": {
    "name": "ipython",
    "version": 3
   },
   "file_extension": ".py",
   "mimetype": "text/x-python",
   "name": "python",
   "nbconvert_exporter": "python",
   "pygments_lexer": "ipython3",
   "version": "3.5.2"
  }
 },
 "nbformat": 4,
 "nbformat_minor": 2
}
