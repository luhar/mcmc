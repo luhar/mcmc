{
 "cells": [
  {
   "cell_type": "code",
   "execution_count": 1,
   "metadata": {},
   "outputs": [],
   "source": [
    "# a bit of setup\n",
    "import numpy as np\n",
    "import math\n",
    "import matplotlib.pyplot as plt\n",
    "from matplotlib import animation\n",
    "import pandas as pd\n",
    "import scipy.stats as stats\n",
    "from pydub import AudioSegment\n",
    "% matplotlib inline"
   ]
  },
  {
   "cell_type": "code",
   "execution_count": 4,
   "metadata": {
    "collapsed": true
   },
   "outputs": [],
   "source": [
    "def metropolis_hastings(proposal_func, init_func, acceptance_score, num_iters, step=30):\n",
    "    \"\"\"\n",
    "    Runs the metropolis-hastings algorithm for\n",
    "    num_iters iterations, using proposal_func\n",
    "    to generate samples and scorer to assign\n",
    "    probability scores to samples.\n",
    "      \n",
    "    proposal_func -- function that proposes\n",
    "        candidate state; takes in current state as\n",
    "        argument and returns candidate state\n",
    "    init_func -- function that proposes starting\n",
    "        state; takes no arguments and returns a\n",
    "        sample state\n",
    "    acceptance_score -- function that calculates the acceptance\n",
    "        probability; takes in two state samples\n",
    "        (candidate first, then sample) and returns\n",
    "        acceptance probability\n",
    "    \n",
    "    Returns a sequence of every step-th sample. You \n",
    "    should only sample on upon acceptance of a new\n",
    "    proposal. Do not keep sampling the current state.\n",
    "    \n",
    "    Note the total number of samples will NOT be\n",
    "    equal to num_iters. num_iters is the total number\n",
    "    of proposals we generate.\n",
    "    \"\"\"\n",
    "    samples = []\n",
    "    sample = init_func()\n",
    "    for i in range(num_iters):\n",
    "        candidate = proposal_func(sample)\n",
    "        acceptance_ratio = min(1, acceptance_score(candidate,sample))\n",
    "        if np.random.uniform() < acceptance_ratio:\n",
    "            sample = candidate\n",
    "            samples.append(sample)\n",
    "    return samples[::step]"
   ]
  },
  {
   "cell_type": "code",
   "execution_count": 13,
   "metadata": {
    "collapsed": true
   },
   "outputs": [],
   "source": [
    "def build_bigram_freq_matrix(input_arr, alphabet_size):\n",
    "    \"\"\"\n",
    "    Builds a matrix that represents the transitional\n",
    "    probabilities between letters in input_file.\n",
    "    \n",
    "    bigram_freq_matrix[0][1] is the probability of\n",
    "    transitioning from the 0th letter of the alphabet\n",
    "    to the 1st letter of the alphabet, where letters\n",
    "    are zero-indexed. ' ' (space) is denoted as the\n",
    "    26th letter of the alphabet.\n",
    "    \"\"\"\n",
    "    counts = np.ones([alphabet_size, alphabet_size])\n",
    "    \n",
    "    for i in range(len(input_arr) - 2):\n",
    "        first_char = input_arr[i]\n",
    "        second_char = input_arr[i+1]\n",
    "        counts[first_char][second_char] += 1\n",
    "        \n",
    "    return (counts.T / np.sum(counts, axis=1)).T"
   ]
  },
  {
   "cell_type": "code",
   "execution_count": 3,
   "metadata": {},
   "outputs": [],
   "source": [
    "def starting_state():\n",
    "    \"\"\"\n",
    "    Start with a random permutation.\n",
    "    \"\"\"\n",
    "    return np.random.randint(1,21,21)\n",
    "\n",
    "def sample_candidate(sample):\n",
    "    \"\"\"\n",
    "    To search for new ciphers, randomly\n",
    "    swap two letters in the previous cipher.\n",
    "    \"\"\"\n",
    "    num_permute = 3 #hyperparameter\n",
    "    sample = list(sample)\n",
    "    for _ in range(num_permute):\n",
    "        sample[np.random.randint(1,21)] = np.random.randint(1,21)\n",
    "    return sample\n",
    "    \n",
    "\n",
    "def make_acceptance_scorer(transition_matrix):\n",
    "    \"\"\"\n",
    "    Calculate the acceptance probability, which is the\n",
    "    probability of observing the message translated by\n",
    "    the proposed cipher divided by the probability of\n",
    "    obseving the message translated by the current\n",
    "    cipher.\n",
    "    \"\"\"\n",
    "    \n",
    "    def scorer(candidate, sample):\n",
    "        nonlocal transition_matrix\n",
    "        \n",
    "        p_cand = 1\n",
    "        for i in range(len(candidate) - 1):\n",
    "            p_cand *= transition_matrix[candidate[i]][candidate[i + 1]]\n",
    "            \n",
    "        p_samp = 1\n",
    "        for i in range(len(samp) - 1):\n",
    "            p_samp *= transition_matrix[samp[i]][samp[i + 1]]\n",
    "            \n",
    "        return max(1, p_cand / p_samp)\n",
    "    \n",
    "    return scorer"
   ]
  },
  {
   "cell_type": "code",
   "execution_count": null,
   "metadata": {
    "collapsed": true
   },
   "outputs": [],
   "source": []
  },
  {
   "cell_type": "code",
   "execution_count": null,
   "metadata": {},
   "outputs": [],
   "source": []
  },
  {
   "cell_type": "code",
   "execution_count": null,
   "metadata": {},
   "outputs": [],
   "source": []
  },
  {
   "cell_type": "code",
   "execution_count": null,
   "metadata": {
    "collapsed": true
   },
   "outputs": [],
   "source": []
  },
  {
   "cell_type": "code",
   "execution_count": null,
   "metadata": {},
   "outputs": [],
   "source": []
  },
  {
   "cell_type": "code",
   "execution_count": null,
   "metadata": {},
   "outputs": [],
   "source": []
  },
  {
   "cell_type": "code",
   "execution_count": null,
   "metadata": {
    "collapsed": true
   },
   "outputs": [],
   "source": []
  }
 ],
 "metadata": {
  "kernelspec": {
   "display_name": "Python 3",
   "language": "python",
   "name": "python3"
  },
  "language_info": {
   "codemirror_mode": {
    "name": "ipython",
    "version": 3
   },
   "file_extension": ".py",
   "mimetype": "text/x-python",
   "name": "python",
   "nbconvert_exporter": "python",
   "pygments_lexer": "ipython3",
   "version": "3.6.2"
  }
 },
 "nbformat": 4,
 "nbformat_minor": 2
}
