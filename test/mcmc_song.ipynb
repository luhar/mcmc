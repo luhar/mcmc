{
 "cells": [
  {
   "cell_type": "code",
   "execution_count": 7,
   "metadata": {},
   "outputs": [
    {
     "name": "stdout",
     "output_type": "stream",
     "text": [
      "The autoreload extension is already loaded. To reload it, use:\n",
      "  %reload_ext autoreload\n"
     ]
    }
   ],
   "source": [
    "# a bit of setup\n",
    "import numpy as np\n",
    "import math\n",
    "import matplotlib.pyplot as plt\n",
    "from matplotlib import animation\n",
    "import pandas as pd\n",
    "import scipy.stats as stats\n",
    "from pydub import AudioSegment\n",
    "% matplotlib inline"
   ]
  },
  {
   "cell_type": "code",
   "execution_count": 4,
   "metadata": {
    "collapsed": true
   },
   "outputs": [],
   "source": [
    "def metropolis_hastings(proposal_func, init_func, acceptance_score, num_iters, step=30):\n",
    "    \"\"\"\n",
    "    Runs the metropolis-hastings algorithm for\n",
    "    num_iters iterations, using proposal_func\n",
    "    to generate samples and scorer to assign\n",
    "    probability scores to samples.\n",
    "      \n",
    "    proposal_func -- function that proposes\n",
    "        candidate state; takes in current state as\n",
    "        argument and returns candidate state\n",
    "    init_func -- function that proposes starting\n",
    "        state; takes no arguments and returns a\n",
    "        sample state\n",
    "    acceptance_score -- function that calculates the acceptance\n",
    "        probability; takes in two state samples\n",
    "        (candidate first, then sample) and returns\n",
    "        acceptance probability\n",
    "    \n",
    "    Returns a sequence of every step-th sample. You \n",
    "    should only sample on upon acceptance of a new\n",
    "    proposal. Do not keep sampling the current state.\n",
    "    \n",
    "    Note the total number of samples will NOT be\n",
    "    equal to num_iters. num_iters is the total number\n",
    "    of proposals we generate.\n",
    "    \"\"\"\n",
    "    samples = []\n",
    "    sample = init_func()\n",
    "    for i in range(num_iters):\n",
    "        candidate = proposal_func(sample)\n",
    "        acceptance_ratio = min(1, acceptance_score(candidate,sample))\n",
    "        if np.random.uniform() < acceptance_ratio:\n",
    "            sample = candidate\n",
    "            samples.append(sample)\n",
    "    return samples[::step]"
   ]
  },
  {
   "cell_type": "code",
   "execution_count": 13,
   "metadata": {
    "collapsed": true
   },
   "outputs": [],
   "source": [
    "\n",
    "\n",
    "def build_bigram_freq_matrix(input_arr, alphabet_size):\n",
    "    \"\"\"\n",
    "    Builds a matrix that represents the transitional\n",
    "    probabilities between letters in input_file.\n",
    "    \n",
    "    bigram_freq_matrix[0][1] is the probability of\n",
    "    transitioning from the 0th letter of the alphabet\n",
    "    to the 1st letter of the alphabet, where letters\n",
    "    are zero-indexed. ' ' (space) is denoted as the\n",
    "    26th letter of the alphabet.\n",
    "    \"\"\"\n",
    "    counts = np.ones([alphabet_size, alphabet_size])\n",
    "    \n",
    "    for i in range(len(input_arr) - 2):\n",
    "        first_char = input_arr[i]\n",
    "        second_char = input_arr[i+1]\n",
    "        counts[first_char][second_char] += 1\n",
    "        \n",
    "    return (counts.T / np.sum(counts, axis=1)).T\n",
    "        "
   ]
  },
  {
   "cell_type": "code",
   "execution_count": 14,
   "metadata": {},
   "outputs": [
    {
     "data": {
      "text/html": [
       "\n",
       "                    <audio controls>\n",
       "                        <source src=\"data:audio/mpeg;base64,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\" type=\"audio/mpeg\"/>\n",
       "                        Your browser does not support the audio element.\n",
       "                    </audio>\n",
       "                  "
      ],
      "text/plain": [
       "<pydub.audio_segment.AudioSegment at 0x11974d7f0>"
      ]
     },
     "execution_count": 14,
     "metadata": {},
     "output_type": "execute_result"
    }
   ],
   "source": [
    "four_seconds = 4 * 1000\n",
    "seven_seconds = 7 * 1000\n",
    "song = AudioSegment.from_file(\n",
    "    \"../music/Audiobinger_-_Bottom_Feeders.mp3\", format=\"mp3\")\\\n",
    "[four_seconds:seven_seconds].set_frame_rate(1800)\n",
    "song"
   ]
  },
  {
   "cell_type": "code",
   "execution_count": 15,
   "metadata": {},
   "outputs": [],
   "source": [
    "input_arr = song.get_array_of_samples()\n",
    "alphabet_size = max(input_arr) - min(input_arr) + 1\n",
    "M = build_bigram_freq_matrix(input_arr, alphabet_size)"
   ]
  },
  {
   "cell_type": "code",
   "execution_count": 17,
   "metadata": {},
   "outputs": [
    {
     "data": {
      "text/plain": [
       "array([[  5.38184167e-05,   5.38184167e-05,   5.38184167e-05, ...,\n",
       "          5.38184167e-05,   5.38184167e-05,   5.38184167e-05],\n",
       "       [  5.38184167e-05,   5.38184167e-05,   5.38184167e-05, ...,\n",
       "          5.38184167e-05,   5.38184167e-05,   5.38184167e-05],\n",
       "       [  5.38184167e-05,   5.38184167e-05,   5.38184167e-05, ...,\n",
       "          5.38184167e-05,   5.38184167e-05,   5.38184167e-05],\n",
       "       ..., \n",
       "       [  5.38242101e-05,   5.38242101e-05,   5.38242101e-05, ...,\n",
       "          5.38242101e-05,   5.38242101e-05,   5.38242101e-05],\n",
       "       [  5.38126244e-05,   5.38126244e-05,   5.38126244e-05, ...,\n",
       "          5.38126244e-05,   5.38126244e-05,   5.38126244e-05],\n",
       "       [  5.38155204e-05,   5.38155204e-05,   5.38155204e-05, ...,\n",
       "          5.38155204e-05,   5.38155204e-05,   5.38155204e-05]])"
      ]
     },
     "execution_count": 17,
     "metadata": {},
     "output_type": "execute_result"
    }
   ],
   "source": [
    "M"
   ]
  },
  {
   "cell_type": "code",
   "execution_count": 19,
   "metadata": {},
   "outputs": [
    {
     "data": {
      "text/plain": [
       "0.00016144656118824668"
      ]
     },
     "execution_count": 19,
     "metadata": {},
     "output_type": "execute_result"
    }
   ],
   "source": [
    "np.max(M)"
   ]
  },
  {
   "cell_type": "code",
   "execution_count": 20,
   "metadata": {
    "collapsed": true
   },
   "outputs": [],
   "source": [
    "T = M * 10000"
   ]
  },
  {
   "cell_type": "code",
   "execution_count": 21,
   "metadata": {},
   "outputs": [
    {
     "data": {
      "text/plain": [
       "1.6144656118824667"
      ]
     },
     "execution_count": 21,
     "metadata": {},
     "output_type": "execute_result"
    }
   ],
   "source": [
    "np.max(T)"
   ]
  },
  {
   "cell_type": "code",
   "execution_count": 34,
   "metadata": {},
   "outputs": [
    {
     "data": {
      "text/plain": [
       "(array([     0.,      0.,      0.,      0.,      0.,  18579.,      0.,\n",
       "             0.,      0.,      0.]),\n",
       " array([ 0.0382421,  0.1382421,  0.2382421,  0.3382421,  0.4382421,\n",
       "         0.5382421,  0.6382421,  0.7382421,  0.8382421,  0.9382421,\n",
       "         1.0382421]),\n",
       " <a list of 10 Patch objects>)"
      ]
     },
     "execution_count": 34,
     "metadata": {},
     "output_type": "execute_result"
    },
    {
     "data": {
      "image/png": "[encoded data removed]",
      "text/plain": [
       "<matplotlib.figure.Figure at 0x3baea4c18>"
      ]
     },
     "metadata": {},
     "output_type": "display_data"
    }
   ],
   "source": [
    "plt.hist(T[5000])"
   ]
  },
  {
   "cell_type": "code",
   "execution_count": null,
   "metadata": {
    "collapsed": true
   },
   "outputs": [],
   "source": []
  }
 ],
 "metadata": {
  "kernelspec": {
   "display_name": "Python 3",
   "language": "python",
   "name": "python3"
  },
  "language_info": {
   "codemirror_mode": {
    "name": "ipython",
    "version": 3
   },
   "file_extension": ".py",
   "mimetype": "text/x-python",
   "name": "python",
   "nbconvert_exporter": "python",
   "pygments_lexer": "ipython3",
   "version": "3.6.2"
  }
 },
 "nbformat": 4,
 "nbformat_minor": 2
}
